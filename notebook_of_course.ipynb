{
 "cells": [
  {
   "cell_type": "markdown",
   "id": "2229f848-066f-4c70-a6dd-ad5d77b94712",
   "metadata": {
    "tags": []
   },
   "source": [
    "<center>\n",
    "    <img src=\"https://cf-courses-data.s3.us.cloud-object-storage.appdomain.cloud/IBMDeveloperSkillsNetwork-DS0105EN-SkillsNetwork/labs/Module2/images/SN_web_lightmode.png\" width=\"300\" alt=\"cognitiveclass.ai logo\">\n",
    "</center>"
   ]
  },
  {
   "cell_type": "markdown",
   "id": "6050e946-ee45-4b82-912a-3fef8ec90c29",
   "metadata": {},
   "source": [
    "#### Add your code below following the instructions given in the course"
   ]
  },
  {
   "cell_type": "markdown",
   "id": "229328cc-8e6b-4ce2-8b6c-0858ef84dedb",
   "metadata": {},
   "source": [
    "<h1>Data Science Tools and Ecosystem</h1>"
   ]
  },
  {
   "cell_type": "markdown",
   "id": "1e41712b-009c-4f1f-96fa-624623db9e1f",
   "metadata": {},
   "source": [
    "<h2>Introduction</h2>\n",
    "In this notebook, I will introduce some Data Science Tools and Ecosystem, both of which I learned in the course"
   ]
  },
  {
   "cell_type": "markdown",
   "id": "2562f3fd-8256-4884-b501-cf3308091d83",
   "metadata": {},
   "source": [
    "<h3>Programming languages used in data science </h3>\n",
    "\n",
    "Some of the popular languages that Data Scientists use are:\n",
    "\n",
    "1. Python\n",
    "2. R\n",
    "3. SQL\n",
    "4. Julia\n",
    "5. MATLAB\n"
   ]
  },
  {
   "cell_type": "markdown",
   "id": "f736f5af-2470-49b6-99c8-f3e92bbe7531",
   "metadata": {},
   "source": [
    "<h3>Libraries used in data science </h3>\n",
    "\n",
    "Some of the commonly used libraries used by Data Scientists include:\n",
    "\n",
    "1. Numpy\n",
    "2. Pandas\n",
    "3. SQLlite\n",
    "4. Matplotlib\n",
    "5. scikit-learn\n",
    "6. dplyr\n",
    "7. Caret"
   ]
  },
  {
   "cell_type": "markdown",
   "id": "abaabde5-1495-4ddc-b81b-99663d2830de",
   "metadata": {},
   "source": [
    "<h3>Some Data science Tools</h3>\n",
    "\n",
    "| Data science Tools |\n",
    "| -------------|\n",
    "| Jupyter Notebook |\n",
    "| Jupyter Lab |\n",
    "| Rstudio |"
   ]
  },
  {
   "cell_type": "markdown",
   "id": "55f14927-04aa-4c61-91cc-c28c3a55ac6c",
   "metadata": {},
   "source": [
    "<h3> In the subsequent cell, I will provide a few examples of evaluating arithmetic expressions in Python<h3>"
   ]
  },
  {
   "cell_type": "code",
   "execution_count": 10,
   "id": "37bffa3c-513b-43b4-b999-37853a372bed",
   "metadata": {
    "tags": []
   },
   "outputs": [
    {
     "data": {
      "text/plain": [
       "17"
      ]
     },
     "execution_count": 10,
     "metadata": {},
     "output_type": "execute_result"
    }
   ],
   "source": [
    "# This a simple arithmetic expression to mutiply then add integers\n",
    "(3*4)+5"
   ]
  },
  {
   "cell_type": "code",
   "execution_count": 12,
   "id": "6aa3500b-675a-4b55-a436-618dc8f6d290",
   "metadata": {
    "tags": []
   },
   "outputs": [
    {
     "data": {
      "text/plain": [
       "3.3333333333333335"
      ]
     },
     "execution_count": 12,
     "metadata": {},
     "output_type": "execute_result"
    }
   ],
   "source": [
    "# This will convert 200 minutes to hours by diving by 60\n",
    "200/60"
   ]
  },
  {
   "cell_type": "markdown",
   "id": "1ab3227c-5c8a-4446-806d-069a51657645",
   "metadata": {},
   "source": [
    "**Objectives:**\n",
    "- List some of the popular languages used in data science\n",
    "- List examples of libraries used in data science\n",
    "- List examples of some data science tools\n",
    "- Give two examples of use of basic python arithmetic operators"
   ]
  },
  {
   "cell_type": "markdown",
   "id": "77e8c774-cba6-4454-a296-f2a85e88556b",
   "metadata": {},
   "source": [
    "<h2>Author</h2>\n",
    "Julian A. Abril L."
   ]
  }
 ],
 "metadata": {
  "kernelspec": {
   "display_name": "Python",
   "language": "python",
   "name": "conda-env-python-py"
  },
  "language_info": {
   "codemirror_mode": {
    "name": "ipython",
    "version": 3
   },
   "file_extension": ".py",
   "mimetype": "text/x-python",
   "name": "python",
   "nbconvert_exporter": "python",
   "pygments_lexer": "ipython3",
   "version": "3.7.12"
  }
 },
 "nbformat": 4,
 "nbformat_minor": 5
}
